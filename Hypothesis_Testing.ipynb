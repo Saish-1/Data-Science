{
 "cells": [
  {
   "cell_type": "raw",
   "id": "b2de0448-9ec0-45b5-be1b-46e099933f36",
   "metadata": {},
   "source": [
    "(Q): Bombay hospitality Ltd. operates a franchise model for producing exotic Norwegian dinners throughout New England. The operating cost for a franchise in a week (W) is given by the equation W = $1,000 + $5X, where X represents the number of units produced in a week. Recent feedback from restaurant owners suggests that this cost model may no longer be accurate, as their observed weekly operating costs are higher.\n",
    "Objective:\n",
    "To investigate the restaurant owners' claim about the increase in weekly operating costs using hypothesis testing.\n",
    "Data Provided:\n",
    "•\tThe theoretical weekly operating cost model: W = $1,000 + $5X\n",
    "•\tSample of 25 restaurants with a mean weekly cost of Rs. 3,050\n",
    "•\tNumber of units produced in a week (X) follows a normal distribution with a mean (μ) of 600 units and a standard deviation (σ) of 25 units\n",
    "Assignment Tasks:\n",
    "1. State the Hypotheses statement:\n",
    "2. Calculate the Test Statistic:\n",
    "Use the following formula to calculate the test statistic (t):\n",
    "where:\n",
    "•\tˉxˉ = sample mean weekly cost (Rs. 3,050)\n",
    "•\tμ = theoretical mean weekly cost according to the cost model (W = $1,000 + $5X for X = 600 units)\n",
    "•\tσ = 5*25 units\n",
    "•\tn = sample size (25 restaurants)\n",
    "3. Determine the Critical Value:\n",
    "Using the alpha level of 5% (α = 0.05), determine the critical value from the standard normal (Z) distribution table.\n",
    "4. Make a Decision:\n",
    "Compare the test statistic with the critical value to decide whether to reject the null hypothesis.\n",
    "5. Conclusion:\n",
    "Based on the decision in step 4, conclude whether there is strong evidence to support the restaurant owners' claim that the weekly operating costs are higher than the model suggests."
   ]
  },
  {
   "cell_type": "code",
   "execution_count": null,
   "id": "9720ecb0-94c3-447b-81c5-27fb6c6f900e",
   "metadata": {},
   "outputs": [],
   "source": [
    "# HYPOTESIS TESTING"
   ]
  },
  {
   "cell_type": "code",
   "execution_count": 3,
   "id": "7c3b0329-5936-43d7-a214-ddafd29e1022",
   "metadata": {},
   "outputs": [],
   "source": [
    "from scipy import stats\n",
    "import numpy as np"
   ]
  },
  {
   "cell_type": "code",
   "execution_count": 9,
   "id": "3fd14eaa-acf8-4d3f-9f85-4f15468e2480",
   "metadata": {},
   "outputs": [
    {
     "name": "stdout",
     "output_type": "stream",
     "text": [
      "Value of Z-Calculated is : 3.9200000000000004\n",
      "Value of Z-Critical is : 1.959963984540054\n",
      "Reject Null Hypothesis, i.e, The operating cost for a franchise in a week is increased. Immediate change is required.\n"
     ]
    }
   ],
   "source": [
    "#Bombay Hospitality Ltd. Problem\n",
    "#H0: mu<=1000+5(600) = 3000, The operating cost for a franchise in a week is same as the model suggests. Hence no change required.\n",
    "#H1: mu>3000, The operating cost for a franchise in a week is increased. Immediate change is required.\n",
    "\n",
    "alpha = 0.05\n",
    "sigma = 125                                              \n",
    "n = 25\n",
    "x_bar = 3050\n",
    "mu = 600\n",
    "z_cal = (x_bar-mu)/sigma/np.sqrt(n)\n",
    "print(f\"Value of Z-Calculated is : {z_cal}\")\n",
    "z_crit = stats.norm.ppf(1-alpha/2)\n",
    "print(f\"Value of Z-Critical is : {z_crit}\")\n",
    "if z_cal <= z_crit:\n",
    "    print('Accept Null Hypothesis, i.e, The operating cost for a franchise in a week is same as the model suggests. Hence no change required.')\n",
    "else:\n",
    "    print(\"Reject Null Hypothesis, i.e, The operating cost for a franchise in a week is increased. Immediate change is required.\")\n",
    "\n",
    "#z_cal>z_crit, Hence we reject null hypothesis and accept alternative hypothesis, i.e, the model is no longer accurate."
   ]
  },
  {
   "cell_type": "raw",
   "id": "a86a1e58-8655-4771-9f99-6abb976a009a",
   "metadata": {},
   "source": [
    "As z_calculated value is greater than z_critical value we should reject Null Hypothesis. Null Hypotheis states that The operating cost for a franchise is no longer accurate. It should be changed immediately."
   ]
  },
  {
   "cell_type": "code",
   "execution_count": null,
   "id": "411c7cd7-5c6b-47e4-882d-5fe222f69a38",
   "metadata": {},
   "outputs": [],
   "source": []
  },
  {
   "cell_type": "code",
   "execution_count": null,
   "id": "517150e5-c28c-4058-b2e3-8410113d6014",
   "metadata": {},
   "outputs": [],
   "source": [
    "# CHI-SQUARE TESTING"
   ]
  },
  {
   "cell_type": "raw",
   "id": "db81922e-dfe4-4e89-8bc4-e9fddda4957f",
   "metadata": {},
   "source": [
    "Association between Device Type and Customer Satisfaction\n",
    "Background:\n",
    "Mizzare Corporation has collected data on customer satisfaction levels for two types of smart home devices: Smart Thermostats and Smart Lights. They want to determine if there's a significant association between the type of device purchased and the customer's satisfaction level.\n",
    "Data Provided:\n",
    "The data is summarized in a contingency table showing the counts of customers in each satisfaction level for both types of devices:\n",
    "\n",
    "Satisfaction\t   Smart Thermostat\t  Smart Light\t    Total\n",
    "Very Satisfied\t     50\t                   70\t         120\n",
    "Satisfied\t         80           \t      100\t         180\n",
    "Neutral\t             60\t                   90\t         150\n",
    "Unsatisfied\t         30\t                   50\t          80\n",
    "Very Unsatisfied\t 20\t                   50\t          70\n",
    "Total\t            240\t                  360\t         600\n",
    "\n",
    "Objective:\n",
    "To use the Chi-Square test for independence to determine if there's a significant association between the type of smart home device purchased (Smart Thermostats vs. Smart Lights) and the customer satisfaction level.\n",
    "Assignment Tasks:\n",
    "1. State the Hypotheses:\n",
    "2. Compute the Chi-Square Statistic:\n",
    "3. Determine the Critical Value:\n",
    "Using the significance level (alpha) of 0.05 and the degrees of freedom (which is the number of categories minus 1)\n",
    "4. Make a Decision:\n",
    "Compare the Chi-Square statistic with the critical value to decide whether to reject the null hypothesis."
   ]
  },
  {
   "cell_type": "code",
   "execution_count": 3,
   "id": "a85fede7-d1b0-4542-9dcb-d495865b536a",
   "metadata": {},
   "outputs": [],
   "source": [
    "import pandas as pd\n",
    "from scipy import stats"
   ]
  },
  {
   "cell_type": "code",
   "execution_count": 5,
   "id": "16687c01-802b-456e-895d-a641ecf26c89",
   "metadata": {},
   "outputs": [
    {
     "data": {
      "text/html": [
       "<div>\n",
       "<style scoped>\n",
       "    .dataframe tbody tr th:only-of-type {\n",
       "        vertical-align: middle;\n",
       "    }\n",
       "\n",
       "    .dataframe tbody tr th {\n",
       "        vertical-align: top;\n",
       "    }\n",
       "\n",
       "    .dataframe thead th {\n",
       "        text-align: right;\n",
       "    }\n",
       "</style>\n",
       "<table border=\"1\" class=\"dataframe\">\n",
       "  <thead>\n",
       "    <tr style=\"text-align: right;\">\n",
       "      <th></th>\n",
       "      <th>Smart Thermostat</th>\n",
       "      <th>Smart Light</th>\n",
       "      <th>Total</th>\n",
       "    </tr>\n",
       "    <tr>\n",
       "      <th>Satisfaction</th>\n",
       "      <th></th>\n",
       "      <th></th>\n",
       "      <th></th>\n",
       "    </tr>\n",
       "  </thead>\n",
       "  <tbody>\n",
       "    <tr>\n",
       "      <th>Very Satisfied</th>\n",
       "      <td>50</td>\n",
       "      <td>70</td>\n",
       "      <td>120</td>\n",
       "    </tr>\n",
       "    <tr>\n",
       "      <th>Satisfied</th>\n",
       "      <td>80</td>\n",
       "      <td>100</td>\n",
       "      <td>180</td>\n",
       "    </tr>\n",
       "    <tr>\n",
       "      <th>Neutral</th>\n",
       "      <td>60</td>\n",
       "      <td>90</td>\n",
       "      <td>150</td>\n",
       "    </tr>\n",
       "    <tr>\n",
       "      <th>Unsatisfied</th>\n",
       "      <td>30</td>\n",
       "      <td>50</td>\n",
       "      <td>80</td>\n",
       "    </tr>\n",
       "    <tr>\n",
       "      <th>Very Unsatisfied</th>\n",
       "      <td>20</td>\n",
       "      <td>50</td>\n",
       "      <td>70</td>\n",
       "    </tr>\n",
       "    <tr>\n",
       "      <th>Total</th>\n",
       "      <td>240</td>\n",
       "      <td>360</td>\n",
       "      <td>600</td>\n",
       "    </tr>\n",
       "  </tbody>\n",
       "</table>\n",
       "</div>"
      ],
      "text/plain": [
       "                  Smart Thermostat  Smart Light  Total\n",
       "Satisfaction                                          \n",
       "Very Satisfied                  50           70    120\n",
       "Satisfied                       80          100    180\n",
       "Neutral                         60           90    150\n",
       "Unsatisfied                     30           50     80\n",
       "Very Unsatisfied                20           50     70\n",
       "Total                          240          360    600"
      ]
     },
     "execution_count": 5,
     "metadata": {},
     "output_type": "execute_result"
    }
   ],
   "source": [
    "#CHI_SQUARE_Testing\n",
    "\n",
    "#H0: There is no significant association between type of device purchased and customer's satisfaction level.\n",
    "#H1: There is a signicant association between type of device purchased and customer's satisfaction level.\n",
    "# Creating a data frame from given Table.\n",
    "df = pd.DataFrame([('Very Satisfied',50,70,120),        \n",
    "                   ('Satisfied',80,100,180),\n",
    "                   ('Neutral',60,90,150),\n",
    "                   ('Unsatisfied',30,50,80),\n",
    "                   ('Very Unsatisfied',20,50,70),\n",
    "                   ('Total',240,360,600)],\n",
    "                 columns=['Satisfaction','Smart Thermostat','Smart Light','Total'])\n",
    "alpha = 0.05\n",
    "df=df.set_index('Satisfaction')      #reassigning index as Satisfaction level\n",
    "df\n"
   ]
  },
  {
   "cell_type": "code",
   "execution_count": 7,
   "id": "269a38a4-8a4c-463b-b25c-8733df4c21cb",
   "metadata": {},
   "outputs": [
    {
     "data": {
      "text/plain": [
       "Chi2ContingencyResult(statistic=0.0, pvalue=1.0, dof=0, expected_freq=array([ 50.,  80.,  60.,  30.,  20., 240.]))"
      ]
     },
     "execution_count": 7,
     "metadata": {},
     "output_type": "execute_result"
    }
   ],
   "source": [
    "stats.chi2_contingency(df['Smart Thermostat'],df['Smart Light'])   #finding p_value using chi2_contingency()"
   ]
  },
  {
   "cell_type": "code",
   "execution_count": 11,
   "id": "ce850f02-62e7-4bdc-be3f-486fae7a4de7",
   "metadata": {},
   "outputs": [
    {
     "name": "stdout",
     "output_type": "stream",
     "text": [
      "Accept Null Hypothesis, i.e, There is a signicant association between type of device purchased and customer's satisfaction level.\n"
     ]
    }
   ],
   "source": [
    "p_val = stats.chi2_contingency(df['Smart Thermostat'],df['Smart Light'])[1]\n",
    "if p_val<alpha:\n",
    "    print(\"Reject Null Hypothesis and accept Alternative Hypothesis, i.e, There is a signicant association between type of device purchased and customer's satisfaction level.\")\n",
    "else:\n",
    "    print(\"Accept Null Hypothesis, i.e, There is a signicant association between type of device purchased and customer's satisfaction level.\")"
   ]
  },
  {
   "cell_type": "code",
   "execution_count": null,
   "id": "10066e45-8d3c-47cd-b993-073df1bb3c0a",
   "metadata": {},
   "outputs": [],
   "source": []
  }
 ],
 "metadata": {
  "kernelspec": {
   "display_name": "Python [conda env:base] *",
   "language": "python",
   "name": "conda-base-py"
  },
  "language_info": {
   "codemirror_mode": {
    "name": "ipython",
    "version": 3
   },
   "file_extension": ".py",
   "mimetype": "text/x-python",
   "name": "python",
   "nbconvert_exporter": "python",
   "pygments_lexer": "ipython3",
   "version": "3.12.7"
  }
 },
 "nbformat": 4,
 "nbformat_minor": 5
}
