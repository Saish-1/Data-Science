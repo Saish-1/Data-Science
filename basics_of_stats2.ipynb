{
 "cells": [
  {
   "cell_type": "markdown",
   "id": "a854aeaa-faf1-44db-af6f-f192800d824b",
   "metadata": {},
   "source": [
    "# Estimation And Confidence Intervals"
   ]
  },
  {
   "cell_type": "raw",
   "id": "c52d0a06-166a-47b6-bb4a-ac86f0f057a0",
   "metadata": {},
   "source": [
    "Build 99% Confidence Interval Using Sample Standard Deviation\n",
    "Assuming the sample is representative of the population, construct a 99% confidence interval for the mean number of characters printed before the print-head fails using the sample standard deviation. Explain the steps you take and the rationale behind using the t-distribution for this task."
   ]
  },
  {
   "cell_type": "code",
   "execution_count": 3,
   "id": "1b11236f-f352-4a05-85a5-bbc91c918b36",
   "metadata": {},
   "outputs": [
    {
     "data": {
      "text/plain": [
       "(array([1.09019734]), array([1.38713599]))"
      ]
     },
     "execution_count": 3,
     "metadata": {},
     "output_type": "execute_result"
    }
   ],
   "source": [
    "from scipy import stats\n",
    "import numpy as np\n",
    "import pandas as pd\n",
    "\n",
    "\n",
    "data = [1.13, 1.55, 1.43, 0.92, 1.25, 1.36, 1.32, 0.85, 1.07, 1.48, 1.20, 1.33, 1.18, 1.22, 1.29]            #loading the sample data into a list\n",
    "df = pd.DataFrame(data)                                               #converting the sample data list into a data frame for using pandas library\n",
    "#we should use t-test as population mean (sigma is unknown.\n",
    "stats.t.interval(0.99,len(data)-1,df.mean(),df.std()/np.sqrt(len(data)))                                         #calculating confidence interval"
   ]
  },
  {
   "cell_type": "code",
   "execution_count": null,
   "id": "b2040eb8-d60b-4d4e-828e-72d4c97420c5",
   "metadata": {},
   "outputs": [],
   "source": [
    "#Hence we can conclude that the confidence interval of sample data is (1.090,1.387)"
   ]
  },
  {
   "cell_type": "raw",
   "id": "c98899f1-9e18-4461-85e1-b6e2cef1581e",
   "metadata": {},
   "source": [
    "Build 99% Confidence Interval Using Known Population Standard Deviation\n",
    "If it were known that the population standard deviation is 0.2 million characters, construct a 99% confidence interval for the mean number of \n",
    "characters printed before failure."
   ]
  },
  {
   "cell_type": "code",
   "execution_count": 9,
   "id": "23b62a59-71cb-40c6-9dc0-5b58265252df",
   "metadata": {},
   "outputs": [
    {
     "data": {
      "text/plain": [
       "(array([1.10565141]), array([1.37168192]))"
      ]
     },
     "execution_count": 9,
     "metadata": {},
     "output_type": "execute_result"
    }
   ],
   "source": [
    "#Using Z-test as population mean(sigma) is given (0.2)\n",
    "stats.norm.interval(0.99,df.mean(),0.2/np.sqrt(len(data)))"
   ]
  },
  {
   "cell_type": "code",
   "execution_count": 1,
   "id": "ce76616d-9497-45a0-8f59-b7f0a568d4fe",
   "metadata": {},
   "outputs": [],
   "source": [
    "#Hence we can conclude that the confidence interval of sample data is (1.106,1.370)\n",
    "\n"
   ]
  },
  {
   "cell_type": "code",
   "execution_count": null,
   "id": "e64ad7cb-a0df-4c70-83bd-7274ee1214e6",
   "metadata": {},
   "outputs": [],
   "source": []
  },
  {
   "cell_type": "code",
   "execution_count": null,
   "id": "7bb1ec0f-6cde-47fd-82a2-70858c7353aa",
   "metadata": {},
   "outputs": [],
   "source": [
    "#CHI-SQUARE TESTING"
   ]
  },
  {
   "cell_type": "code",
   "execution_count": 5,
   "id": "df6b3288-3058-4998-961a-6280e653c6b8",
   "metadata": {},
   "outputs": [],
   "source": [
    "import pandas as pd\n",
    "from scipy import stats\n"
   ]
  },
  {
   "cell_type": "code",
   "execution_count": 7,
   "id": "8a8f1524-a360-4756-acdb-222ca58866cd",
   "metadata": {},
   "outputs": [
    {
     "data": {
      "text/html": [
       "<div>\n",
       "<style scoped>\n",
       "    .dataframe tbody tr th:only-of-type {\n",
       "        vertical-align: middle;\n",
       "    }\n",
       "\n",
       "    .dataframe tbody tr th {\n",
       "        vertical-align: top;\n",
       "    }\n",
       "\n",
       "    .dataframe thead th {\n",
       "        text-align: right;\n",
       "    }\n",
       "</style>\n",
       "<table border=\"1\" class=\"dataframe\">\n",
       "  <thead>\n",
       "    <tr style=\"text-align: right;\">\n",
       "      <th></th>\n",
       "      <th>Smart Thermostat</th>\n",
       "      <th>Smart Light</th>\n",
       "      <th>Total</th>\n",
       "    </tr>\n",
       "    <tr>\n",
       "      <th>Satisfaction</th>\n",
       "      <th></th>\n",
       "      <th></th>\n",
       "      <th></th>\n",
       "    </tr>\n",
       "  </thead>\n",
       "  <tbody>\n",
       "    <tr>\n",
       "      <th>Very Satisfied</th>\n",
       "      <td>50</td>\n",
       "      <td>70</td>\n",
       "      <td>120</td>\n",
       "    </tr>\n",
       "    <tr>\n",
       "      <th>Satisfied</th>\n",
       "      <td>80</td>\n",
       "      <td>100</td>\n",
       "      <td>180</td>\n",
       "    </tr>\n",
       "    <tr>\n",
       "      <th>Neutral</th>\n",
       "      <td>60</td>\n",
       "      <td>90</td>\n",
       "      <td>150</td>\n",
       "    </tr>\n",
       "    <tr>\n",
       "      <th>Unsatisfied</th>\n",
       "      <td>30</td>\n",
       "      <td>50</td>\n",
       "      <td>80</td>\n",
       "    </tr>\n",
       "    <tr>\n",
       "      <th>Very Unsatisfied</th>\n",
       "      <td>20</td>\n",
       "      <td>50</td>\n",
       "      <td>70</td>\n",
       "    </tr>\n",
       "    <tr>\n",
       "      <th>Total</th>\n",
       "      <td>240</td>\n",
       "      <td>360</td>\n",
       "      <td>600</td>\n",
       "    </tr>\n",
       "  </tbody>\n",
       "</table>\n",
       "</div>"
      ],
      "text/plain": [
       "                  Smart Thermostat  Smart Light  Total\n",
       "Satisfaction                                          \n",
       "Very Satisfied                  50           70    120\n",
       "Satisfied                       80          100    180\n",
       "Neutral                         60           90    150\n",
       "Unsatisfied                     30           50     80\n",
       "Very Unsatisfied                20           50     70\n",
       "Total                          240          360    600"
      ]
     },
     "execution_count": 7,
     "metadata": {},
     "output_type": "execute_result"
    }
   ],
   "source": [
    "#CHI_SQUARE_Testing\n",
    "\n",
    "#H0: There is no significant association between type of device purchased and customer's satisfaction level.\n",
    "#H1: There is a signicant association between type of device purchased and customer's satisfaction level.\n",
    "# Creating a data frame from given Table.\n",
    "df = pd.DataFrame([('Very Satisfied',50,70,120),        \n",
    "                   ('Satisfied',80,100,180),\n",
    "                   ('Neutral',60,90,150),\n",
    "                   ('Unsatisfied',30,50,80),\n",
    "                   ('Very Unsatisfied',20,50,70),\n",
    "                   ('Total',240,360,600)],\n",
    "                 columns=['Satisfaction','Smart Thermostat','Smart Light','Total'])\n",
    "alpha = 0.05\n",
    "df=df.set_index('Satisfaction')      #reassigning index as Satisfaction level\n",
    "df\n"
   ]
  },
  {
   "cell_type": "code",
   "execution_count": 9,
   "id": "e9097067-10d2-42ea-9091-3e0dd95356a7",
   "metadata": {},
   "outputs": [
    {
     "data": {
      "text/plain": [
       "Chi2ContingencyResult(statistic=0.0, pvalue=1.0, dof=0, expected_freq=array([ 50.,  80.,  60.,  30.,  20., 240.]))"
      ]
     },
     "execution_count": 9,
     "metadata": {},
     "output_type": "execute_result"
    }
   ],
   "source": [
    "stats.chi2_contingency(df['Smart Thermostat'],df['Smart Light'])   #finding p_value using chi2_contingency()"
   ]
  },
  {
   "cell_type": "code",
   "execution_count": 11,
   "id": "6e6cf22b-c0c5-49b0-9113-4ac6c9415251",
   "metadata": {},
   "outputs": [
    {
     "name": "stdout",
     "output_type": "stream",
     "text": [
      "Accept Null Hypothesis, i.e, There is a signicant association between type of device purchased and customer's satisfaction level.\n"
     ]
    }
   ],
   "source": [
    "p_val = stats.chi2_contingency(df['Smart Thermostat'],df['Smart Light'])[1]\n",
    "if p_val<alpha:\n",
    "    print(\"Reject Null Hypothesis and accept Alternative Hypothesis, i.e, There is a signicant association between type of device purchased and customer's satisfaction level.\")\n",
    "else:\n",
    "    print(\"Accept Null Hypothesis, i.e, There is a signicant association between type of device purchased and customer's satisfaction level.\")"
   ]
  },
  {
   "cell_type": "code",
   "execution_count": null,
   "id": "6eba2e9e-9779-4ea1-a454-d6009dbd8262",
   "metadata": {},
   "outputs": [],
   "source": []
  }
 ],
 "metadata": {
  "kernelspec": {
   "display_name": "Python [conda env:base] *",
   "language": "python",
   "name": "conda-base-py"
  },
  "language_info": {
   "codemirror_mode": {
    "name": "ipython",
    "version": 3
   },
   "file_extension": ".py",
   "mimetype": "text/x-python",
   "name": "python",
   "nbconvert_exporter": "python",
   "pygments_lexer": "ipython3",
   "version": "3.12.7"
  }
 },
 "nbformat": 4,
 "nbformat_minor": 5
}
