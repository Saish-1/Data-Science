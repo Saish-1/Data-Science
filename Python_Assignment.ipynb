{
 "cells": [
  {
   "cell_type": "code",
   "execution_count": 2,
   "id": "a18c8db6-ddea-466e-88a3-68625348b02f",
   "metadata": {},
   "outputs": [
    {
     "name": "stdin",
     "output_type": "stream",
     "text": [
      "Enter number:  65\n"
     ]
    },
    {
     "name": "stdout",
     "output_type": "stream",
     "text": [
      "not a prime\n"
     ]
    }
   ],
   "source": [
    "#Prime Number\n",
    "\n",
    "n=int(input(\"Enter number: \"))\n",
    "count = 0\n",
    "for i in range(1,n+1):\n",
    "    if n%i==0:\n",
    "        count+=1 #counting the number of factors for the given number\n",
    "    \n",
    "if count ==2:   # A prime number has only 2 factors(1 and itself).\n",
    "    print(\"prime\")\n",
    "else:\n",
    "    print(\"not a prime\")"
   ]
  },
  {
   "cell_type": "code",
   "execution_count": 107,
   "id": "72c6a95b-8c11-4881-a504-57d0effcec23",
   "metadata": {},
   "outputs": [
    {
     "name": "stdin",
     "output_type": "stream",
     "text": [
      "What is 9 * 4\n",
      " 45\n"
     ]
    },
    {
     "name": "stdout",
     "output_type": "stream",
     "text": [
      "Oops! 45 is not the right answer. 36 the right answer.\n"
     ]
    }
   ],
   "source": [
    "#Multiplication Quiz\n",
    "import numpy as np\n",
    "def mul_quiz():\n",
    "    n1 = np.random.randint(1,12)                      #generates a random number in range 1-12.\n",
    "    n2 = np.random.randint(1,12)\n",
    "    ans = n1*n2\n",
    "    user_ans = int(input(f\"What is {n1} * {n2}\\n\"))\n",
    "    if ans == user_ans:                               #checks if the user answer is the correct answer or not.\n",
    "        print(f\"{ans} is the right answer!\")\n",
    "    else:\n",
    "        print(f\"Oops! {user_ans} is not the right answer. {ans} the right answer.\")\n",
    "mul_quiz()"
   ]
  },
  {
   "cell_type": "code",
   "execution_count": 6,
   "id": "03c984a3-89a2-4bf5-b083-71f782ac0cb1",
   "metadata": {},
   "outputs": [
    {
     "data": {
      "text/plain": [
       "'for i in range(101,200,2):\\n    print(i**2)'"
      ]
     },
     "execution_count": 6,
     "metadata": {},
     "output_type": "execute_result"
    }
   ],
   "source": [
    "#Squares of Numbers\n",
    "'''for i in range(100,200,2):\n",
    "    print(i*i)'''\n",
    "    \n",
    "for i in range(101,200,2):\n",
    "    print(i**2)"
   ]
  },
  {
   "cell_type": "code",
   "execution_count": 1,
   "id": "75611f78-c608-4b72-be10-baf5379df22a",
   "metadata": {},
   "outputs": [
    {
     "name": "stdin",
     "output_type": "stream",
     "text": [
      " this is this is\n"
     ]
    },
    {
     "name": "stdout",
     "output_type": "stream",
     "text": [
      "'this': 2\n",
      "'is': 2\n"
     ]
    }
   ],
   "source": [
    "#Word Counter\n",
    "words = input().split()                 #converts sentence into list of words\n",
    "word_count = {}                         #initializing an empty dictionary\n",
    "for word in words:\n",
    "    if word in word_count:\n",
    "        word_count[word] += 1           #checks if the words in the sentences are repeated or not. If repeated it counts how many times it is repeated.\n",
    "    else:\n",
    "        word_count[word] = 1\n",
    "for word, count in word_count.items():   \n",
    "    print(f\"'{word}': {count}\")         #prints words with its count."
   ]
  },
  {
   "cell_type": "code",
   "execution_count": 5,
   "id": "14eeb193-9256-4f3f-8d1d-f5d693eb752e",
   "metadata": {},
   "outputs": [
    {
     "name": "stdin",
     "output_type": "stream",
     "text": [
      " rotator\n"
     ]
    },
    {
     "name": "stdout",
     "output_type": "stream",
     "text": [
      "palindrome\n"
     ]
    }
   ],
   "source": [
    "#Palindrome \n",
    "def palindrome(n):\n",
    "    rev = n[: :-1] #reverses the string\n",
    "    if n == rev:\n",
    "        print(\"palindrome\")\n",
    "    else:\n",
    "        print(\"not a palindrome\")\n",
    "\n",
    "word = input()\n",
    "palindrome(word)\n",
    "    "
   ]
  },
  {
   "cell_type": "code",
   "execution_count": null,
   "id": "4edb3b88-f8e9-4a76-974b-badb27a02420",
   "metadata": {},
   "outputs": [],
   "source": []
  }
 ],
 "metadata": {
  "kernelspec": {
   "display_name": "Python [conda env:base] *",
   "language": "python",
   "name": "conda-base-py"
  },
  "language_info": {
   "codemirror_mode": {
    "name": "ipython",
    "version": 3
   },
   "file_extension": ".py",
   "mimetype": "text/x-python",
   "name": "python",
   "nbconvert_exporter": "python",
   "pygments_lexer": "ipython3",
   "version": "3.12.7"
  }
 },
 "nbformat": 4,
 "nbformat_minor": 5
}
